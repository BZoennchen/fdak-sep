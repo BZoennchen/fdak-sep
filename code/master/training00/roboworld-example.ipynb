{
 "cells": [
  {
   "cell_type": "raw",
   "id": "5b68e2af-2b16-47f3-99ce-7fb0d8d715d1",
   "metadata": {},
   "source": [
    "# ASSIGNMENT CONFIG\n",
    "requirements: requirements.txt\n",
    "solutions_pdf: true\n",
    "export_cell:\n",
    "    instructions: \"These are some submission instructions.\"\n",
    "    pdf: false\n",
    "    force_save: true\n",
    "generate: \n",
    "    pdf: true\n",
    "    zips: true"
   ]
  },
  {
   "cell_type": "markdown",
   "id": "3ea0e396-6a48-4100-8511-f9ae0e58f3c7",
   "metadata": {},
   "source": [
    "Für dieses Notebook benötigen Sie zwei Module ``roboworld`` und ``otter-grader``. Installieren Sie diese z.B. durch:\n",
    "\n",
    "```\n",
    "pip install otter-grader\n",
    "pip install roboworld\n",
    "```"
   ]
  },
  {
   "cell_type": "markdown",
   "id": "eddf3809-b358-48af-85f8-0f009b90332c",
   "metadata": {},
   "source": [
    "# Roboterwelt\n",
    "\n",
    "Roboter dienen uns heute in vielen Bereichen als Helfer und Assistenten.\n",
    "Sie fertigen Autos und andere große Maschinen an, spielen gegeneinander Fußball und interagieren mit uns Menschen auf direktem Weg.\n",
    "Roboter können dort eingesetzt werden, wo es für den Menschen zu gefährlich wird.\n",
    "Zum Beispiel, hatte man versucht durch einen Roboter die Lage am Kernreaktor von Chernobyl besser zu analysieren.\n",
    "Ein weiteres Beispiel ist die Entschärfung von Sprengstoff oder das Auffinden von Überlebenden, welche unter Gebäuden begraben wurden.\n",
    "\n",
    "Wir werden heute einen Roboter durch eine zweidimensionale Welt bewegen."
   ]
  },
  {
   "cell_type": "markdown",
   "id": "a891e135-a1ec-482e-b620-7c179053f47a",
   "metadata": {},
   "source": [
    "Um die Welt und ihren Roboter anzuzeigen benötigen Sie das Modul ``roboworld``."
   ]
  },
  {
   "cell_type": "code",
   "execution_count": 1,
   "id": "3483a158-c048-4b56-ab47-f9deaca85a61",
   "metadata": {},
   "outputs": [],
   "source": [
    "import roboworld as rw"
   ]
  },
  {
   "cell_type": "markdown",
   "id": "b6235644-6a6f-447e-8403-9343cfbe3b8d",
   "metadata": {},
   "source": [
    "Dieser Befehl sorgt dafür, dass das *Paket* ``roboworld`` in unser Notebook importiert (eingefügt) wird. Um nicht immer den langen Namen ``roboworld`` tippen zu müssen, wählen wir die Abkürzung ``rw``. \n",
    "\n",
    "Lassen Sie uns eine Roboterwelt mit 5 Zeilen ``nrows`` und 9 Spalten ``ncols`` erzeugen:"
   ]
  },
  {
   "cell_type": "code",
   "execution_count": 2,
   "id": "a194eb38-1b28-480b-b5cb-4e03a5538ac0",
   "metadata": {},
   "outputs": [],
   "source": [
    "world = rw.new_world(nrows = 5, ncols = 9)"
   ]
  },
  {
   "cell_type": "markdown",
   "id": "5d1d4bfd-b541-4da5-88c8-d8f9fda59162",
   "metadata": {},
   "source": [
    "Wir sagen dem ``Modul``, dass es uns eine neue Welt erzeugen soll. Jetzt können wir dieser Welt ``world`` sagen, dass sie sich selbst bitte anzeigen soll:"
   ]
  },
  {
   "cell_type": "code",
   "execution_count": 3,
   "id": "64a1d6c3-f693-41a7-9350-69ca58dfaea2",
   "metadata": {},
   "outputs": [
    {
     "data": {
      "image/png": "[encoded data removed]",
      "text/plain": [
       "<Figure size 360x200 with 1 Axes>"
      ]
     },
     "execution_count": 3,
     "metadata": {},
     "output_type": "execute_result"
    }
   ],
   "source": [
    "world.show()"
   ]
  },
  {
   "cell_type": "raw",
   "id": "dfc2595c-53da-4e7b-a0c5-ada38f0902a3",
   "metadata": {},
   "source": [
    "# BEGIN QUESTION\n",
    "name: q1"
   ]
  },
  {
   "cell_type": "markdown",
   "id": "603d1604-0dc5-4cd3-9747-6f4cf0d951d5",
   "metadata": {},
   "source": [
    "***\n",
    "***Aufgabe 1.*** \n",
    "Bewegen Sie Ihren Roboter ``robo`` auf das Ziel. Gehen Sie davon aus, dass der Roboter bzw. Sie wissen wo das Ziel ist. Nach Ihr Erstellung der Welt ist der Roboter nach **Norden (N)** ausgerichtet. Mir ``help(robo)`` können Sie erfragen, welche Operationen Ihr Roboter beherrscht."
   ]
  },
  {
   "cell_type": "raw",
   "id": "77beb768-5a8f-49eb-9d07-547ea47666dc",
   "metadata": {},
   "source": [
    "# BEGIN SOLUTION"
   ]
  },
  {
   "cell_type": "code",
   "execution_count": 4,
   "id": "c71a4cc8-9b3f-4b58-ba9a-ac42396eeed4",
   "metadata": {},
   "outputs": [
    {
     "data": {
      "image/png": "[encoded data removed]",
      "text/plain": [
       "<Figure size 400x40 with 1 Axes>"
      ]
     },
     "execution_count": 4,
     "metadata": {},
     "output_type": "execute_result"
    }
   ],
   "source": [
    "mycorridor = rw.new_world(nrows = 1, ncols = 10, robo_position=[0,0], goal_position=[0, 5])\n",
    "robo = mycorridor.get_robo()\n",
    "mycorridor.show()"
   ]
  },
  {
   "cell_type": "code",
   "execution_count": 5,
   "id": "3d8c49ef-c24d-4f14-8d69-136a366b48a2",
   "metadata": {},
   "outputs": [
    {
     "name": "stdout",
     "output_type": "stream",
     "text": [
      "turn N -> W\n",
      "turn W -> S\n",
      "turn S -> E\n",
      "move (0, 0) -> (0, 1)\n",
      "move (0, 1) -> (0, 2)\n",
      "move (0, 2) -> (0, 3)\n",
      "move (0, 3) -> (0, 4)\n",
      "move (0, 4) -> (0, 5)\n"
     ]
    },
    {
     "data": {
      "text/plain": [
       "(0, 5)"
      ]
     },
     "execution_count": 5,
     "metadata": {},
     "output_type": "execute_result"
    }
   ],
   "source": [
    "# BEGIN SOLUTION\n",
    "robo.turn_left()\n",
    "robo.turn_left()\n",
    "robo.turn_left()\n",
    "robo.move()\n",
    "robo.move()\n",
    "robo.move()\n",
    "robo.move()\n",
    "robo.move()\n",
    "# END SOLUTION"
   ]
  },
  {
   "cell_type": "raw",
   "id": "9ccec936-2ab7-4f18-8ee1-c594cedf132d",
   "metadata": {},
   "source": [
    "# END SOLUTION"
   ]
  },
  {
   "cell_type": "raw",
   "id": "dfe317c2-89da-402b-93e0-10dfcbf7bfe3",
   "metadata": {},
   "source": [
    "# BEGIN TESTS"
   ]
  },
  {
   "cell_type": "code",
   "execution_count": 6,
   "id": "b936fc9c-09d4-4c2e-b621-aa98be9f15ee",
   "metadata": {},
   "outputs": [
    {
     "data": {
      "text/plain": [
       "True"
      ]
     },
     "execution_count": 6,
     "metadata": {},
     "output_type": "execute_result"
    }
   ],
   "source": [
    "mycorridor.is_successful() == True"
   ]
  },
  {
   "cell_type": "raw",
   "id": "2c4da5aa-c06c-470f-a7b0-eebc0bbd3790",
   "metadata": {},
   "source": [
    "# END TESTS"
   ]
  },
  {
   "cell_type": "raw",
   "id": "8ed74bf7-db72-47f4-9a41-d989e5fe6fc3",
   "metadata": {},
   "source": [
    "# END QUESTION"
   ]
  },
  {
   "cell_type": "markdown",
   "id": "5b28ca46-6db5-4954-bfad-1a50cf3b6a1f",
   "metadata": {},
   "source": [
    "***"
   ]
  }
 ],
 "metadata": {
  "kernelspec": {
   "display_name": "Python 3 (ipykernel)",
   "language": "python",
   "name": "python3"
  },
  "language_info": {
   "codemirror_mode": {
    "name": "ipython",
    "version": 3
   },
   "file_extension": ".py",
   "mimetype": "text/x-python",
   "name": "python",
   "nbconvert_exporter": "python",
   "pygments_lexer": "ipython3",
   "version": "3.9.7"
  }
 },
 "nbformat": 4,
 "nbformat_minor": 5
}
