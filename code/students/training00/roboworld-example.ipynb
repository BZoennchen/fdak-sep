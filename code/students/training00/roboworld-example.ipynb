{
 "cells": [
  {
   "cell_type": "code",
   "execution_count": null,
   "id": "8adf5cc6",
   "metadata": {
    "deletable": false,
    "editable": false
   },
   "outputs": [],
   "source": [
    "# Initialize Otter\n",
    "import otter\n",
    "grader = otter.Notebook(\"roboworld-example.ipynb\")"
   ]
  },
  {
   "cell_type": "markdown",
   "id": "bfdb6b79",
   "metadata": {},
   "source": [
    "Für dieses Notebook benötigen Sie zwei Module ``roboworld`` und ``otter-grader``. Installieren Sie diese z.B. durch:\n",
    "\n",
    "```\n",
    "pip install otter-grader\n",
    "pip install roboworld\n",
    "```"
   ]
  },
  {
   "cell_type": "markdown",
   "id": "0cc9eacd",
   "metadata": {},
   "source": [
    "# Roboterwelt\n",
    "\n",
    "Roboter dienen uns heute in vielen Bereichen als Helfer und Assistenten.\n",
    "Sie fertigen Autos und andere große Maschinen an, spielen gegeneinander Fußball und interagieren mit uns Menschen auf direktem Weg.\n",
    "Roboter können dort eingesetzt werden, wo es für den Menschen zu gefährlich wird.\n",
    "Zum Beispiel, hatte man versucht durch einen Roboter die Lage am Kernreaktor von Chernobyl besser zu analysieren.\n",
    "Ein weiteres Beispiel ist die Entschärfung von Sprengstoff oder das Auffinden von Überlebenden, welche unter Gebäuden begraben wurden.\n",
    "\n",
    "Wir werden heute einen Roboter durch eine zweidimensionale Welt bewegen."
   ]
  },
  {
   "cell_type": "markdown",
   "id": "3fc47d92",
   "metadata": {},
   "source": [
    "Um die Welt und ihren Roboter anzuzeigen benötigen Sie das Modul ``roboworld``."
   ]
  },
  {
   "cell_type": "code",
   "execution_count": null,
   "id": "20da6c3a",
   "metadata": {},
   "outputs": [],
   "source": [
    "import roboworld as rw"
   ]
  },
  {
   "cell_type": "markdown",
   "id": "613667ea",
   "metadata": {},
   "source": [
    "Dieser Befehl sorgt dafür, dass das *Paket* ``roboworld`` in unser Notebook importiert (eingefügt) wird. Um nicht immer den langen Namen ``roboworld`` tippen zu müssen, wählen wir die Abkürzung ``rw``. \n",
    "\n",
    "Lassen Sie uns eine Roboterwelt mit 5 Zeilen ``nrows`` und 9 Spalten ``ncols`` erzeugen:"
   ]
  },
  {
   "cell_type": "code",
   "execution_count": null,
   "id": "7ed00a6b",
   "metadata": {},
   "outputs": [],
   "source": [
    "world = rw.new_world(nrows = 5, ncols = 9)"
   ]
  },
  {
   "cell_type": "markdown",
   "id": "3b0fdbfd",
   "metadata": {},
   "source": [
    "Wir sagen dem ``Modul``, dass es uns eine neue Welt erzeugen soll. Jetzt können wir dieser Welt ``world`` sagen, dass sie sich selbst bitte anzeigen soll:"
   ]
  },
  {
   "cell_type": "code",
   "execution_count": null,
   "id": "77b92eed",
   "metadata": {},
   "outputs": [],
   "source": [
    "world.show()"
   ]
  },
  {
   "cell_type": "markdown",
   "id": "f71e3a90",
   "metadata": {},
   "source": [
    "***\n",
    "***Aufgabe 5.*** \n",
    "Bewegen Sie Ihren Roboter ``robo`` auf das Ziel. Gehen Sie davon aus, dass der Roboter bzw. Sie wissen wo das Ziel ist. Nach Ihr Erstellung der Welt ist der Roboter nach **Norden (N)** ausgerichtet. Mir ``help(robo)`` können Sie erfragen, welche Operationen Ihr Roboter beherrscht."
   ]
  },
  {
   "cell_type": "code",
   "execution_count": null,
   "id": "3f63acb0",
   "metadata": {
    "tags": []
   },
   "outputs": [],
   "source": [
    "mycorridor = rw.new_world(nrows = 1, ncols = 10, robo_position=[0,0], goal_position=[0, 5])\n",
    "robo = mycorridor.get_robo()\n",
    "mycorridor.show()"
   ]
  },
  {
   "cell_type": "code",
   "execution_count": null,
   "id": "29226c79",
   "metadata": {
    "tags": []
   },
   "outputs": [],
   "source": [
    "..."
   ]
  },
  {
   "cell_type": "code",
   "execution_count": null,
   "id": "ea93396b",
   "metadata": {
    "deletable": false,
    "editable": false
   },
   "outputs": [],
   "source": [
    "grader.check(\"q5\")"
   ]
  },
  {
   "cell_type": "markdown",
   "id": "369330e0",
   "metadata": {},
   "source": [
    "***"
   ]
  },
  {
   "cell_type": "markdown",
   "id": "f5cbe31a",
   "metadata": {
    "deletable": false,
    "editable": false
   },
   "source": [
    "---\n",
    "\n",
    "To double-check your work, the cell below will rerun all of the autograder tests."
   ]
  },
  {
   "cell_type": "code",
   "execution_count": null,
   "id": "219ba226",
   "metadata": {
    "deletable": false,
    "editable": false
   },
   "outputs": [],
   "source": [
    "grader.check_all()"
   ]
  },
  {
   "cell_type": "markdown",
   "id": "76f347bf",
   "metadata": {
    "deletable": false,
    "editable": false
   },
   "source": [
    "## Submission\n",
    "\n",
    "Make sure you have run all cells in your notebook in order before running the cell below, so that all images/graphs appear in the output. The cell below will generate a zip file for you to submit.\n",
    "\n",
    "These are some submission instructions."
   ]
  },
  {
   "cell_type": "code",
   "execution_count": null,
   "id": "75a92c88",
   "metadata": {
    "deletable": false,
    "editable": false
   },
   "outputs": [],
   "source": [
    "grader.export(pdf=False, force_save=True)"
   ]
  },
  {
   "cell_type": "markdown",
   "id": "919fcf6a",
   "metadata": {},
   "source": [
    " "
   ]
  }
 ],
 "metadata": {
  "kernelspec": {
   "display_name": "Python 3 (ipykernel)",
   "language": "python",
   "name": "python3"
  },
  "language_info": {
   "codemirror_mode": {
    "name": "ipython",
    "version": 3
   },
   "file_extension": ".py",
   "mimetype": "text/x-python",
   "name": "python",
   "nbconvert_exporter": "python",
   "pygments_lexer": "ipython3",
   "version": "3.9.7"
  },
  "otter": {
   "tests": {
    "q5": {
     "name": "q5",
     "points": null,
     "suites": [
      {
       "cases": [
        {
         "code": ">>> mycorridor.is_successful() == True\nTrue",
         "hidden": false,
         "locked": false
        }
       ],
       "scored": true,
       "setup": "",
       "teardown": "",
       "type": "doctest"
      }
     ]
    }
   }
  }
 },
 "nbformat": 4,
 "nbformat_minor": 5
}
